{
  "nbformat": 4,
  "nbformat_minor": 0,
  "metadata": {
    "colab": {
      "provenance": []
    },
    "kernelspec": {
      "name": "python3",
      "display_name": "Python 3"
    },
    "language_info": {
      "name": "python"
    }
  },
  "cells": [
    {
      "cell_type": "markdown",
      "source": [
        "#Strings\n",
        "##-> It is a sequence of characters\n",
        "##-> strings are immutable\n",
        "##-> it is denoted with ' 'or\" \"\n",
        "##->strings are index based and slicable"
      ],
      "metadata": {
        "id": "j4p2gksloopR"
      }
    },
    {
      "cell_type": "code",
      "execution_count": null,
      "metadata": {
        "colab": {
          "base_uri": "https://localhost:8080/"
        },
        "id": "hyCcjTDUocfF",
        "outputId": "c73fd866-cccc-424b-c481-b74c5fb51021"
      },
      "outputs": [
        {
          "output_type": "stream",
          "name": "stdout",
          "text": [
            "a\n",
            "e\n",
            "c\n"
          ]
        }
      ],
      "source": [
        "s='abcde'\n",
        "print(s[0])\n",
        "print(s[-1])\n",
        "print(s[2])"
      ]
    },
    {
      "cell_type": "code",
      "source": [
        "s='abcde'\n",
        "print(s[1:4])"
      ],
      "metadata": {
        "colab": {
          "base_uri": "https://localhost:8080/"
        },
        "id": "P4C1djBApJ6x",
        "outputId": "9d1c7db9-effc-4fe8-bdb1-a534998d6c97"
      },
      "execution_count": null,
      "outputs": [
        {
          "output_type": "stream",
          "name": "stdout",
          "text": [
            "bcd\n"
          ]
        }
      ]
    },
    {
      "cell_type": "code",
      "source": [
        "s='abcde'\n",
        "print(s[2:3])\n",
        "print(s[:3])\n",
        "print(s[:])\n",
        "print(s[:-2])\n",
        "print(s[-3:3])\n",
        "print(s[-4:-1])\n",
        "print(s[::2])"
      ],
      "metadata": {
        "colab": {
          "base_uri": "https://localhost:8080/"
        },
        "id": "Wu4CGg-0pURc",
        "outputId": "f89dcaea-1dd5-4159-9e66-5250f666891e"
      },
      "execution_count": null,
      "outputs": [
        {
          "output_type": "stream",
          "name": "stdout",
          "text": [
            "c\n",
            "abc\n",
            "abcde\n",
            "abc\n",
            "c\n",
            "bcd\n",
            "ace\n"
          ]
        }
      ]
    },
    {
      "cell_type": "code",
      "source": [
        "print(s[::-1])"
      ],
      "metadata": {
        "colab": {
          "base_uri": "https://localhost:8080/"
        },
        "id": "Xe7qJWuZprVa",
        "outputId": "ee4af544-5672-4082-cc4a-06b0c66ede51"
      },
      "execution_count": null,
      "outputs": [
        {
          "output_type": "stream",
          "name": "stdout",
          "text": [
            "edcba\n"
          ]
        }
      ]
    },
    {
      "cell_type": "markdown",
      "source": [
        "#string operators\n",
        "##-> string concatination by using '+'"
      ],
      "metadata": {
        "id": "GfNJgsQuqSNU"
      }
    },
    {
      "cell_type": "code",
      "source": [
        "s1=\"code\"\n",
        "s2=\"gnan\"\n",
        "print(s1+s2)\n",
        "print(s1+\" \"+s2)"
      ],
      "metadata": {
        "colab": {
          "base_uri": "https://localhost:8080/"
        },
        "id": "mkK5ySZbqFhs",
        "outputId": "a50641e7-5618-4117-da93-da6bc4ecf01b"
      },
      "execution_count": null,
      "outputs": [
        {
          "output_type": "stream",
          "name": "stdout",
          "text": [
            "codegnan\n",
            "code gnan\n"
          ]
        }
      ]
    },
    {
      "cell_type": "code",
      "source": [
        "s1=\"welcome\"\n",
        "s2=\"to\"\n",
        "s3=\"programming\"\n",
        "print(s1+\" \"+s2+\" \"+s3)"
      ],
      "metadata": {
        "colab": {
          "base_uri": "https://localhost:8080/"
        },
        "id": "TlFX8Q2wqn-e",
        "outputId": "78c06a9e-9aac-4c98-bbd8-4ad1f581ecb6"
      },
      "execution_count": null,
      "outputs": [
        {
          "output_type": "stream",
          "name": "stdout",
          "text": [
            "welcome to programming\n"
          ]
        }
      ]
    },
    {
      "cell_type": "markdown",
      "source": [
        "##-> Repetation of string using '*'"
      ],
      "metadata": {
        "id": "q8fz7rulrA-5"
      }
    },
    {
      "cell_type": "code",
      "source": [
        "string=\"Manohar\"\n",
        "print(string*4)"
      ],
      "metadata": {
        "colab": {
          "base_uri": "https://localhost:8080/"
        },
        "id": "YMOKVvTfq7WH",
        "outputId": "862a8bc7-cd62-4b37-8c98-1f0119095c12"
      },
      "execution_count": null,
      "outputs": [
        {
          "output_type": "stream",
          "name": "stdout",
          "text": [
            "ManoharManoharManoharManohar\n"
          ]
        }
      ]
    },
    {
      "cell_type": "code",
      "source": [
        "string=\"@\"\n",
        "print(string*1)\n",
        "print(string*2)\n",
        "print(string*3)\n",
        "print(string*4)"
      ],
      "metadata": {
        "colab": {
          "base_uri": "https://localhost:8080/"
        },
        "id": "AorGxor4rQ1E",
        "outputId": "0f3a0f43-3cbe-4474-e07b-4bea2d94f1e6"
      },
      "execution_count": null,
      "outputs": [
        {
          "output_type": "stream",
          "name": "stdout",
          "text": [
            "@\n",
            "@@\n",
            "@@@\n",
            "@@@@\n"
          ]
        }
      ]
    },
    {
      "cell_type": "markdown",
      "source": [
        "##->String case conversion\n",
        "###Lower()-it converts string into lower case\n",
        "###Upper()-it converts string into upper case\n",
        "###swapcase()-it converts upper to lower and lower to upper\n",
        "###title()-it converts the every first letter into upper case\n",
        "###capitalize()-it converts the every first letter in string into upper"
      ],
      "metadata": {
        "id": "X6N2rZrCr3gk"
      }
    },
    {
      "cell_type": "code",
      "source": [
        "string=\"Manohar\"\n",
        "print(string.lower())\n",
        "print(string.upper())\n",
        "print(string.swapcase())"
      ],
      "metadata": {
        "colab": {
          "base_uri": "https://localhost:8080/"
        },
        "id": "KkoQcg64rui9",
        "outputId": "7818d1e0-f962-4b91-f43b-3a99319f4de6"
      },
      "execution_count": null,
      "outputs": [
        {
          "output_type": "stream",
          "name": "stdout",
          "text": [
            "manohar\n",
            "MANOHAR\n",
            "mANOHAR\n"
          ]
        }
      ]
    },
    {
      "cell_type": "code",
      "source": [
        "s2=\"i am a codegnan student\"\n",
        "print(s2.title())"
      ],
      "metadata": {
        "colab": {
          "base_uri": "https://localhost:8080/"
        },
        "id": "_IzNPwgKst5Q",
        "outputId": "dcd03684-bb7e-4061-b49b-d88cf3bcb505"
      },
      "execution_count": null,
      "outputs": [
        {
          "output_type": "stream",
          "name": "stdout",
          "text": [
            "I Am A Codegnan Student\n"
          ]
        }
      ]
    },
    {
      "cell_type": "code",
      "source": [
        "print(s2.capitalize())"
      ],
      "metadata": {
        "colab": {
          "base_uri": "https://localhost:8080/"
        },
        "id": "_xuy4ZbwtU7t",
        "outputId": "20212c92-ea23-436f-dd0b-a53998143abf"
      },
      "execution_count": null,
      "outputs": [
        {
          "output_type": "stream",
          "name": "stdout",
          "text": [
            "I am a codegnan student\n"
          ]
        }
      ]
    },
    {
      "cell_type": "markdown",
      "source": [
        "##->Remove white spaces\n",
        "###strip()-it removes the leading and lagging white spaces\n",
        "###lstrip()-it removes the leading white spaces(front)\n",
        "###rstirp()-it removes the lagging white spaces(back)"
      ],
      "metadata": {
        "id": "sDgNc0ujtj7_"
      }
    },
    {
      "cell_type": "code",
      "source": [
        "s=' abc '\n",
        "print(s.strip())\n",
        "print(s.lstrip())\n",
        "print(s.rstrip())"
      ],
      "metadata": {
        "colab": {
          "base_uri": "https://localhost:8080/"
        },
        "id": "2vXPHFQgtaEU",
        "outputId": "d9725cf6-0267-460c-9577-65a634523145"
      },
      "execution_count": null,
      "outputs": [
        {
          "output_type": "stream",
          "name": "stdout",
          "text": [
            "abc\n",
            "abc \n",
            " abc\n"
          ]
        }
      ]
    },
    {
      "cell_type": "code",
      "source": [
        "s='@@@abc@@de@@@'\n",
        "print(s.strip('@'))\n",
        "print(s.lstrip('@'))\n",
        "print(s.rstrip('@'))"
      ],
      "metadata": {
        "colab": {
          "base_uri": "https://localhost:8080/"
        },
        "id": "sYNSEWMcuL9X",
        "outputId": "f5bbe8b1-0cc7-4b88-8703-074fc403b067"
      },
      "execution_count": null,
      "outputs": [
        {
          "output_type": "stream",
          "name": "stdout",
          "text": [
            "abc@@de\n",
            "abc@@de@@@\n",
            "@@@abc@@de\n"
          ]
        }
      ]
    },
    {
      "cell_type": "markdown",
      "source": [
        "##->split()-it converts the string into list of substrings as per the delimiter"
      ],
      "metadata": {
        "id": "3hyszU8quwtp"
      }
    },
    {
      "cell_type": "code",
      "source": [
        "string='I am a python programmer'\n",
        "print(string.split())"
      ],
      "metadata": {
        "colab": {
          "base_uri": "https://localhost:8080/"
        },
        "id": "U_uc9zaiunwX",
        "outputId": "3448c54f-37cf-4182-d5c7-56b1436d0523"
      },
      "execution_count": null,
      "outputs": [
        {
          "output_type": "stream",
          "name": "stdout",
          "text": [
            "['I', 'am', 'a', 'python', 'programmer']\n"
          ]
        }
      ]
    },
    {
      "cell_type": "code",
      "source": [
        "print(string.split('a'))\n",
        "print(string.split('x'))"
      ],
      "metadata": {
        "colab": {
          "base_uri": "https://localhost:8080/"
        },
        "id": "DdodW0lzvFTX",
        "outputId": "0fb95187-3e85-4b8c-d3cf-1b7114a46a7c"
      },
      "execution_count": null,
      "outputs": [
        {
          "output_type": "stream",
          "name": "stdout",
          "text": [
            "['I ', 'm ', ' python progr', 'mmer']\n",
            "['I am a python programmer']\n"
          ]
        }
      ]
    },
    {
      "cell_type": "markdown",
      "source": [
        "##->join()-it combines the all iterable values into a single string with a seperator value"
      ],
      "metadata": {
        "id": "fVc0GvtAvehw"
      }
    },
    {
      "cell_type": "code",
      "source": [
        "lst='I','am','a','python','programmer'\n",
        "print(''.join(lst))\n",
        "print(' '.join(lst))\n",
        "print('_'.join(lst))\n",
        "print('@'.join(lst))"
      ],
      "metadata": {
        "colab": {
          "base_uri": "https://localhost:8080/"
        },
        "id": "lqNd07qKvOmx",
        "outputId": "556d319d-8088-46bd-d275-c4c8db53df74"
      },
      "execution_count": null,
      "outputs": [
        {
          "output_type": "stream",
          "name": "stdout",
          "text": [
            "Iamapythonprogrammer\n",
            "I am a python programmer\n",
            "I_am_a_python_programmer\n",
            "I@am@a@python@programmer\n"
          ]
        }
      ]
    },
    {
      "cell_type": "markdown",
      "source": [
        "##->find(sub_string)-it returns the first position of substring occurence in the string otherwise -1\n",
        "##->index(sub_string)-it returns the lower or first position of substring occurence in the string otherwise value error"
      ],
      "metadata": {
        "id": "a2jQPUv_wfPm"
      }
    },
    {
      "cell_type": "code",
      "source": [
        "string='I am a pyhton programmer'\n",
        "print(string.find('m'))\n",
        "print(string.find('x'))"
      ],
      "metadata": {
        "colab": {
          "base_uri": "https://localhost:8080/"
        },
        "id": "ult7cBAuv1Im",
        "outputId": "4daeb6c8-90c7-4c61-d876-b845f28550be"
      },
      "execution_count": null,
      "outputs": [
        {
          "output_type": "stream",
          "name": "stdout",
          "text": [
            "3\n",
            "-1\n"
          ]
        }
      ]
    },
    {
      "cell_type": "code",
      "source": [
        "string='I am a pyhton programmer'\n",
        "print(string.index('p'))\n",
        "print(string.index('z'))"
      ],
      "metadata": {
        "colab": {
          "base_uri": "https://localhost:8080/",
          "height": 201
        },
        "id": "8pGkqHIaxSCb",
        "outputId": "d88f0b38-2583-4d46-c78b-cddb15119e20"
      },
      "execution_count": null,
      "outputs": [
        {
          "output_type": "stream",
          "name": "stdout",
          "text": [
            "7\n"
          ]
        },
        {
          "output_type": "error",
          "ename": "ValueError",
          "evalue": "substring not found",
          "traceback": [
            "\u001b[0;31m---------------------------------------------------------------------------\u001b[0m",
            "\u001b[0;31mValueError\u001b[0m                                Traceback (most recent call last)",
            "\u001b[0;32m/tmp/ipython-input-30-2327499822.py\u001b[0m in \u001b[0;36m<cell line: 0>\u001b[0;34m()\u001b[0m\n\u001b[1;32m      1\u001b[0m \u001b[0mstring\u001b[0m\u001b[0;34m=\u001b[0m\u001b[0;34m'I am a pyhton programmer'\u001b[0m\u001b[0;34m\u001b[0m\u001b[0;34m\u001b[0m\u001b[0m\n\u001b[1;32m      2\u001b[0m \u001b[0mprint\u001b[0m\u001b[0;34m(\u001b[0m\u001b[0mstring\u001b[0m\u001b[0;34m.\u001b[0m\u001b[0mindex\u001b[0m\u001b[0;34m(\u001b[0m\u001b[0;34m'p'\u001b[0m\u001b[0;34m)\u001b[0m\u001b[0;34m)\u001b[0m\u001b[0;34m\u001b[0m\u001b[0;34m\u001b[0m\u001b[0m\n\u001b[0;32m----> 3\u001b[0;31m \u001b[0mprint\u001b[0m\u001b[0;34m(\u001b[0m\u001b[0mstring\u001b[0m\u001b[0;34m.\u001b[0m\u001b[0mindex\u001b[0m\u001b[0;34m(\u001b[0m\u001b[0;34m'z'\u001b[0m\u001b[0;34m)\u001b[0m\u001b[0;34m)\u001b[0m\u001b[0;34m\u001b[0m\u001b[0;34m\u001b[0m\u001b[0m\n\u001b[0m",
            "\u001b[0;31mValueError\u001b[0m: substring not found"
          ]
        }
      ]
    },
    {
      "cell_type": "markdown",
      "source": [
        "#Checking functions\n",
        "##-> isalpha()-returns true if string contains all are alphabet values\n",
        "##-> isalnum()-returns true if string contains alphabets or digits\n",
        "##-> isdigit()-returns true if string contains all are digits"
      ],
      "metadata": {
        "id": "NaUFLY9ix4rn"
      }
    },
    {
      "cell_type": "code",
      "source": [
        "s1='abcd'\n",
        "s2='abc123'\n",
        "s3='123'\n",
        "s4='abc#123'\n",
        "print(s1.isalpha(),s1.isalnum(),s1.isdigit())\n",
        "print(s2.isalpha(),s2.isalnum(),s2.isdigit())\n",
        "print(s3.isalpha(),s3.isalnum(),s3.isdigit())\n",
        "print(s4.isalpha(),s4.isalnum(),s4.isdigit())"
      ],
      "metadata": {
        "colab": {
          "base_uri": "https://localhost:8080/"
        },
        "id": "mxRfayamxxwV",
        "outputId": "5180063e-b93d-4aae-a4b4-9102d7953be6"
      },
      "execution_count": null,
      "outputs": [
        {
          "output_type": "stream",
          "name": "stdout",
          "text": [
            "True True False\n",
            "False True False\n",
            "False True True\n",
            "False False False\n"
          ]
        }
      ]
    },
    {
      "cell_type": "markdown",
      "source": [
        "##string comparision\n",
        "###-> it compares the lexographical order"
      ],
      "metadata": {
        "id": "q4k-fO4Uzn0J"
      }
    },
    {
      "cell_type": "code",
      "source": [
        "s1='abcd'\n",
        "s2='absd'\n",
        "print(s1>s2)\n",
        "print(s1<s2)"
      ],
      "metadata": {
        "colab": {
          "base_uri": "https://localhost:8080/"
        },
        "id": "yEN7IpxLzdJU",
        "outputId": "f4f93800-480c-4c8e-9aee-e3e5e587ce95"
      },
      "execution_count": null,
      "outputs": [
        {
          "output_type": "stream",
          "name": "stdout",
          "text": [
            "False\n",
            "True\n"
          ]
        }
      ]
    },
    {
      "cell_type": "code",
      "source": [
        "s=\"manohar reddy\"\n",
        "print(s.upper().replace('a','@'))"
      ],
      "metadata": {
        "colab": {
          "base_uri": "https://localhost:8080/"
        },
        "id": "NVw5g1gNz6Sx",
        "outputId": "9263c8c9-7b51-4422-ce10-21d708967e1a"
      },
      "execution_count": null,
      "outputs": [
        {
          "output_type": "stream",
          "name": "stdout",
          "text": [
            "MANOHAR REDDY\n"
          ]
        }
      ]
    },
    {
      "cell_type": "code",
      "source": [
        "print(\"_\".join(\"manohar reddy\".split()))"
      ],
      "metadata": {
        "colab": {
          "base_uri": "https://localhost:8080/"
        },
        "id": "Qxj1L_E02WIz",
        "outputId": "83adad46-2e20-469a-f6e2-f53f9fd4db5a"
      },
      "execution_count": null,
      "outputs": [
        {
          "output_type": "stream",
          "name": "stdout",
          "text": [
            "manohar_reddy\n"
          ]
        }
      ]
    },
    {
      "cell_type": "code",
      "source": [
        "l=list('codegnan')\n",
        "print(l)"
      ],
      "metadata": {
        "colab": {
          "base_uri": "https://localhost:8080/"
        },
        "id": "HOGGkIk72xBy",
        "outputId": "6117cf12-91e2-4735-f315-a5fe1a742f06"
      },
      "execution_count": null,
      "outputs": [
        {
          "output_type": "stream",
          "name": "stdout",
          "text": [
            "['c', 'o', 'd', 'e', 'g', 'n', 'a', 'n']\n"
          ]
        }
      ]
    },
    {
      "cell_type": "code",
      "source": [
        "print(\"_\".join(list('codegnan')))"
      ],
      "metadata": {
        "colab": {
          "base_uri": "https://localhost:8080/"
        },
        "id": "PCWKBtsx3FkB",
        "outputId": "7cbc9976-9c02-4cc1-faa8-bdb2f59ffe2f"
      },
      "execution_count": null,
      "outputs": [
        {
          "output_type": "stream",
          "name": "stdout",
          "text": [
            "c_o_d_e_g_n_a_n\n"
          ]
        }
      ]
    },
    {
      "cell_type": "code",
      "source": [],
      "metadata": {
        "id": "sGATuK5A3NCB"
      },
      "execution_count": null,
      "outputs": []
    }
  ]
}